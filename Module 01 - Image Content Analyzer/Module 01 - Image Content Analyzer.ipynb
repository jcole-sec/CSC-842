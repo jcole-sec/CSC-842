{
 "cells": [
  {
   "cell_type": "code",
   "execution_count": 1,
   "id": "bbb8e89e",
   "metadata": {},
   "outputs": [],
   "source": [
    "# https://github.com/UB-Mannheim/tesseract/wiki"
   ]
  },
  {
   "cell_type": "code",
   "execution_count": 2,
   "id": "45ba9217",
   "metadata": {},
   "outputs": [],
   "source": [
    "#!pip3 install pytesseract\n",
    "#!pip3 install python-magic\n",
    "#!pip3 install python-magic-bin"
   ]
  },
  {
   "cell_type": "code",
   "execution_count": 3,
   "id": "21a7bb36",
   "metadata": {},
   "outputs": [],
   "source": [
    "import os\n",
    "\n",
    "from PIL import Image\n",
    "import pytesseract\n",
    "import numpy as np\n",
    "import magic"
   ]
  },
  {
   "cell_type": "code",
   "execution_count": 16,
   "id": "60bb3a4d",
   "metadata": {},
   "outputs": [],
   "source": [
    "#srcdir = \"C:\\\\Users\\\\jcole\\\\Downloads\"\n",
    "src_dir = \"C:\\\\Users\\\\jcole\\\\Desktop\"\n",
    "pytesseract.pytesseract.tesseract_cmd = r'C:\\\\Program Files\\\\Tesseract-OCR\\\\tesseract.exe'"
   ]
  },
  {
   "cell_type": "code",
   "execution_count": 17,
   "id": "c3e4a702",
   "metadata": {},
   "outputs": [],
   "source": [
    "def get_images(srcdir):\n",
    "    image_files = []\n",
    "    for r, d, f in os.walk(srcdir):\n",
    "        for files in f:\n",
    "            srcfile = os.path.join(r, files)\n",
    "            try:\n",
    "                file_type = magic.from_file(srcfile)\n",
    "                if 'image' in file_type.lower():\n",
    "                    #print(file_type)\n",
    "                    image_files.append(srcfile)\n",
    "            except:\n",
    "                print(f'[*] ERROR: {srcfile}')\n",
    "    return image_files"
   ]
  },
  {
   "cell_type": "code",
   "execution_count": 18,
   "id": "86856229",
   "metadata": {},
   "outputs": [],
   "source": [
    "def perform_ocr(image):\n",
    "    img1 = np.array(Image.open(image))\n",
    "    text = pytesseract.image_to_string(img1)\n",
    "    return text"
   ]
  },
  {
   "cell_type": "code",
   "execution_count": 19,
   "id": "bf598005",
   "metadata": {},
   "outputs": [],
   "source": [
    "images = get_images(srcdir)"
   ]
  },
  {
   "cell_type": "code",
   "execution_count": 20,
   "id": "29efb144",
   "metadata": {},
   "outputs": [
    {
     "data": {
      "text/plain": [
       "['C:\\\\Users\\\\jcole\\\\Downloads\\\\1.jpg',\n",
       " 'C:\\\\Users\\\\jcole\\\\Downloads\\\\2.jpg',\n",
       " 'C:\\\\Users\\\\jcole\\\\Downloads\\\\IvV2y.png',\n",
       " 'C:\\\\Users\\\\jcole\\\\Downloads\\\\Netfilter-packet-flow.svg',\n",
       " 'C:\\\\Users\\\\jcole\\\\Downloads\\\\professional photo - jcole.jpg',\n",
       " 'C:\\\\Users\\\\jcole\\\\Downloads\\\\satellite_array_night-wallpaper-1152x720.jpg']"
      ]
     },
     "execution_count": 20,
     "metadata": {},
     "output_type": "execute_result"
    }
   ],
   "source": [
    "images"
   ]
  },
  {
   "cell_type": "code",
   "execution_count": 9,
   "id": "8dd622c4",
   "metadata": {},
   "outputs": [],
   "source": [
    "ocr_text = perform_ocr('C:\\\\Users\\\\jcole\\\\Downloads\\\\IvV2y.png')"
   ]
  },
  {
   "cell_type": "code",
   "execution_count": 10,
   "id": "e838069c",
   "metadata": {},
   "outputs": [
    {
     "data": {
      "text/plain": [
       "'It was the best of\\ntimes, it was the worst\\nof times, it was the age\\nof wisdom, it was the\\nage of foolishness...\\n'"
      ]
     },
     "execution_count": 10,
     "metadata": {},
     "output_type": "execute_result"
    }
   ],
   "source": [
    "ocr_text"
   ]
  },
  {
   "cell_type": "code",
   "execution_count": 11,
   "id": "e9139ec7",
   "metadata": {},
   "outputs": [
    {
     "name": "stdout",
     "output_type": "stream",
     "text": [
      "\n",
      "\n",
      "It was the best of\n",
      "times, it was the worst\n",
      "of times, it was the age\n",
      "of wisdom, it was the\n",
      "age of foolishness...\n",
      "\n",
      "\n",
      "\n"
     ]
    }
   ],
   "source": [
    "#svg files need rename to png\n",
    "\n",
    "for image in images:\n",
    "    if image.endswith('.svg'):\n",
    "        pass\n",
    "    else:\n",
    "        print(perform_ocr(image))\n",
    "    "
   ]
  },
  {
   "cell_type": "code",
   "execution_count": null,
   "id": "3fb2b382",
   "metadata": {},
   "outputs": [],
   "source": []
  }
 ],
 "metadata": {
  "kernelspec": {
   "display_name": "Python 3 (ipykernel)",
   "language": "python",
   "name": "python3"
  },
  "language_info": {
   "codemirror_mode": {
    "name": "ipython",
    "version": 3
   },
   "file_extension": ".py",
   "mimetype": "text/x-python",
   "name": "python",
   "nbconvert_exporter": "python",
   "pygments_lexer": "ipython3",
   "version": "3.10.5"
  }
 },
 "nbformat": 4,
 "nbformat_minor": 5
}
